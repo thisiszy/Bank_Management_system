{
 "metadata": {
  "language_info": {
   "codemirror_mode": {
    "name": "ipython",
    "version": 3
   },
   "file_extension": ".py",
   "mimetype": "text/x-python",
   "name": "python",
   "nbconvert_exporter": "python",
   "pygments_lexer": "ipython3",
   "version": "3.8.5"
  },
  "orig_nbformat": 2,
  "kernelspec": {
   "name": "pythonjvsc74a57bd0e76969ebe885f98bd21478dcd538186e09551ddeb00a70cef4b23088b85fff52",
   "display_name": "Python 3.8.5  ('venv': venv)"
  },
  "metadata": {
   "interpreter": {
    "hash": "e76969ebe885f98bd21478dcd538186e09551ddeb00a70cef4b23088b85fff52"
   }
  }
 },
 "nbformat": 4,
 "nbformat_minor": 2,
 "cells": [
  {
   "cell_type": "code",
   "execution_count": 4,
   "metadata": {},
   "outputs": [],
   "source": [
    "from model import *\n",
    "from sqlalchemy import Column, String, create_engine, select\n",
    "from sqlalchemy.orm import sessionmaker\n",
    "from sqlalchemy.ext.declarative import declarative_base\n",
    "\n",
    "engine = create_engine('mysql://root@localhost/lab3?charset=utf8')\n",
    "session = sessionmaker(engine)()\n",
    "# result = session.execute(select(Worker).where(Worker.WorkerAddr.like('Beijing%')))\n",
    "worker = session.query(Worker).all()\n",
    "# print(book)"
   ]
  },
  {
   "cell_type": "code",
   "execution_count": 7,
   "metadata": {},
   "outputs": [],
   "source": [
    "person = []\n",
    "for item in worker:\n",
    "    person.append(item)"
   ]
  },
  {
   "cell_type": "code",
   "execution_count": 1,
   "metadata": {},
   "outputs": [
    {
     "output_type": "stream",
     "name": "stdout",
     "text": [
      "/home/ubuntu/code/Bank_Management_sys\n"
     ]
    }
   ],
   "source": [
    "cd .."
   ]
  },
  {
   "cell_type": "code",
   "execution_count": 2,
   "metadata": {},
   "outputs": [
    {
     "output_type": "stream",
     "name": "stderr",
     "text": [
      "/home/ubuntu/code/Bank_Management_sys/backend/model.py:30: SAWarning: Implicitly combining column Account.Balance with column Checking.Balance under attribute 'Balance'.  Please configure one or more attributes for these same-named columns explicitly.\n  class Checking(Account):\n/home/ubuntu/code/Bank_Management_sys/backend/model.py:30: SAWarning: Implicitly combining column Account.LastAccessTime with column Checking.LastAccessTime under attribute 'LastAccessTime'.  Please configure one or more attributes for these same-named columns explicitly.\n  class Checking(Account):\n/home/ubuntu/code/Bank_Management_sys/backend/model.py:30: SAWarning: Implicitly combining column Account.OpenDate with column Checking.OpenDate under attribute 'OpenDate'.  Please configure one or more attributes for these same-named columns explicitly.\n  class Checking(Account):\n/home/ubuntu/code/Bank_Management_sys/backend/model.py:40: SAWarning: Implicitly combining column Account.Balance with column Saving.Balance under attribute 'Balance'.  Please configure one or more attributes for these same-named columns explicitly.\n  class Saving(Account):\n/home/ubuntu/code/Bank_Management_sys/backend/model.py:40: SAWarning: Implicitly combining column Account.LastAccessTime with column Saving.LastAccessTime under attribute 'LastAccessTime'.  Please configure one or more attributes for these same-named columns explicitly.\n  class Saving(Account):\n/home/ubuntu/code/Bank_Management_sys/backend/model.py:40: SAWarning: Implicitly combining column Account.OpenDate with column Saving.OpenDate under attribute 'OpenDate'.  Please configure one or more attributes for these same-named columns explicitly.\n  class Saving(Account):\n"
     ]
    }
   ],
   "source": [
    "from backend.action import *"
   ]
  },
  {
   "cell_type": "code",
   "execution_count": 3,
   "metadata": {},
   "outputs": [
    {
     "output_type": "stream",
     "name": "stderr",
     "text": [
      "/home/ubuntu/code/Bank_Management_sys/backend/action.py:342: SAWarning: relationship 'Loan.user' will copy column Loan.SubName to column possess.SubName, which conflicts with relationship(s): 'User.loan' (copies Loan.SubName to possess.SubName). If this is not the intention, consider if these relationships should be linked with back_populates, or if viewonly=True should be applied to one or more if they are read-only. For the less common case that foreign key constraints are partially overlapping, the orm.foreign() annotation can be used to isolate the columns that should be written towards.   To silence this warning, add the parameter 'overlaps=\"loan\"' to the 'Loan.user' relationship.\n  l = db_session.query(Loan).filter(Loan.LoanNum == info['LoanNum']).first()\n/home/ubuntu/code/Bank_Management_sys/backend/action.py:342: SAWarning: relationship 'Loan.user' will copy column Loan.LoanNum to column possess.LoanNum, which conflicts with relationship(s): 'User.loan' (copies Loan.LoanNum to possess.LoanNum). If this is not the intention, consider if these relationships should be linked with back_populates, or if viewonly=True should be applied to one or more if they are read-only. For the less common case that foreign key constraints are partially overlapping, the orm.foreign() annotation can be used to isolate the columns that should be written towards.   To silence this warning, add the parameter 'overlaps=\"loan\"' to the 'Loan.user' relationship.\n  l = db_session.query(Loan).filter(Loan.LoanNum == info['LoanNum']).first()\n/home/ubuntu/code/Bank_Management_sys/backend/action.py:342: SAWarning: relationship 'Loan.user' will copy column User.ID to column possess.ID, which conflicts with relationship(s): 'User.loan' (copies User.ID to possess.ID). If this is not the intention, consider if these relationships should be linked with back_populates, or if viewonly=True should be applied to one or more if they are read-only. For the less common case that foreign key constraints are partially overlapping, the orm.foreign() annotation can be used to isolate the columns that should be written towards.   To silence this warning, add the parameter 'overlaps=\"loan\"' to the 'Loan.user' relationship.\n  l = db_session.query(Loan).filter(Loan.LoanNum == info['LoanNum']).first()\n"
     ]
    }
   ],
   "source": [
    "p = addUser2Loan(\n",
    "    {\n",
    "        'SubName' : 'Beijing支行',\n",
    "        'LoanNum' : '1',\n",
    "        'ID' : '855850346852094000'\n",
    "    }\n",
    ")"
   ]
  },
  {
   "cell_type": "code",
   "execution_count": 7,
   "metadata": {},
   "outputs": [],
   "source": [
    "p=delLoan(\"2\")"
   ]
  },
  {
   "cell_type": "code",
   "execution_count": 8,
   "metadata": {},
   "outputs": [
    {
     "output_type": "execute_result",
     "data": {
      "text/plain": [
       "[<backend.model.User at 0x7f0f97f48250>,\n",
       " <backend.model.User at 0x7f0f97ea90a0>]"
      ]
     },
     "metadata": {},
     "execution_count": 8
    }
   ],
   "source": [
    "p.user"
   ]
  },
  {
   "cell_type": "code",
   "execution_count": null,
   "metadata": {},
   "outputs": [],
   "source": []
  }
 ]
}